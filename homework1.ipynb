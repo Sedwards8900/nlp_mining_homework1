{
 "cells": [
  {
   "attachments": {},
   "cell_type": "markdown",
   "metadata": {},
   "source": [
    "## Part 1.a: Write and call a function that downloads the contents of all URLs (please note that the URLs provided are in UTF-8 encoding) in the resource file (Wikipedia articles on common diseases) one by one to a local directory. Afterwards, this local directory should contain 233 HTML-files."
   ]
  },
  {
   "cell_type": "code",
   "execution_count": 94,
   "metadata": {},
   "outputs": [],
   "source": [
    "# Required imports\n",
    "import requests as r\n",
    "from os import path"
   ]
  },
  {
   "cell_type": "code",
   "execution_count": 121,
   "metadata": {},
   "outputs": [],
   "source": [
    "# Function to download HTMLs\n",
    "def html_downloader(filename:str):\n",
    "\n",
    "    # Open data from txt file\n",
    "    links = open(filename, 'r')\n",
    "    \n",
    "    # Loop through each line of the text file\n",
    "    for line in links:\n",
    "        \n",
    "        # Extract html from the internet\n",
    "        file = r.get(line.strip())\n",
    "\n",
    "        # Check if request worked, if not, print warning, if yes, create downloaded data into html\n",
    "        if file.status_code == 404:\n",
    "            print(file.status_code, \"Unable to extract html for \", line)\n",
    "        else:\n",
    "            linet = line.strip().replace(\"https://en.wikipedia.org/wiki/\",\"\").replace(\"/\",\"and\")\n",
    "            open(f'./Wikipedia articles on common diseases/{linet}.html', 'wb').write(file.content)\n",
    "            \n",
    "    # Close txt file\n",
    "    links.close()"
   ]
  },
  {
   "cell_type": "code",
   "execution_count": 122,
   "metadata": {},
   "outputs": [],
   "source": [
    "# Call function to perform download of htmls\n",
    "html_downloader('wiki_233_diseases_sorted_urls.txt')"
   ]
  },
  {
   "attachments": {},
   "cell_type": "markdown",
   "metadata": {},
   "source": [
    "## Part 1.b: Using the library BeautifulSoup, extract from each downloaded HTML-file its:\n",
    "- title\n",
    "- main text found under the element <div id=\"bodyContent\" ...>\n",
    "- JSON-LD formatted metadata (if existing):\n",
    "    1. name\n",
    "    2. url\n",
    "    3. datePublished\n",
    "    4. dateModified\n",
    "    5. headline\n",
    "    \n",
    "Store this data for each file in a dictionary and add this dictionary to a list. This list should then contain 233 dictionaries."
   ]
  },
  {
   "cell_type": "code",
   "execution_count": null,
   "metadata": {},
   "outputs": [],
   "source": []
  }
 ],
 "metadata": {
  "kernelspec": {
   "display_name": "Python 3",
   "language": "python",
   "name": "python3"
  },
  "language_info": {
   "codemirror_mode": {
    "name": "ipython",
    "version": 3
   },
   "file_extension": ".py",
   "mimetype": "text/x-python",
   "name": "python",
   "nbconvert_exporter": "python",
   "pygments_lexer": "ipython3",
   "version": "3.9.6"
  },
  "orig_nbformat": 4
 },
 "nbformat": 4,
 "nbformat_minor": 2
}
